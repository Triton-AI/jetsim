{
 "cells": [
  {
   "cell_type": "markdown",
   "metadata": {
    "id": "6cQTaFc62eS5"
   },
   "source": [
    "Jetsim : Road Following\n",
    "===\n",
    "\n",
    "### Step 5 from README.md\n",
    "\n",
    "---\n",
    "\n",
    "Right click and open 'this' notebook **JESTIM_interactive_regression.ipyn** in Google colab.\n",
    "\n",
    "Open 'Edit/Notebook settings' toolbar in Google Colab and select **GPU**\n",
    "\n",
    "If you get any runtime errors at anytime, go to 'Runtime' toolbar and click 'Restart Runtime'. Rerun all cells.\n",
    "\n",
    "---"
   ]
  },
  {
   "cell_type": "markdown",
   "metadata": {
    "id": "FXlSTPOl2eS9"
   },
   "source": [
    "---\n",
    "\n",
    "### Check DIY Robocar virtual track server is [ONLINE](https://www.twitch.tv/roboticists)\n",
    "You should see an images of the warren track maybe with or without cars. \n",
    "\n",
    "---\n"
   ]
  },
  {
   "cell_type": "code",
   "execution_count": null,
   "metadata": {
    "id": "a4LMyhpe2j3y"
   },
   "outputs": [],
   "source": [
    "#initialize google colab\n",
    "from google.colab import drive\n",
    "drive.mount('/content/gdrive', force_remount=True)\n",
    "print(\"DONE\")\n"
   ]
  },
  {
   "cell_type": "markdown",
   "metadata": {
    "id": "zPvJN7_2xXV7"
   },
   "source": [
    "'jestim-google-colab' dirctory\n",
    "==="
   ]
  },
  {
   "cell_type": "code",
   "execution_count": null,
   "metadata": {
    "id": "QCfDVbyp2qU7"
   },
   "outputs": [],
   "source": [
    "cd gdrive/MyDrive/jetsim_googlecolab "
   ]
  },
  {
   "cell_type": "markdown",
   "metadata": {
    "id": "ruryyaJ3XIcn"
   },
   "source": [
    "Git clone gym-donkeycar to Google Drive or Update\n",
    "==="
   ]
  },
  {
   "source": [
    "#### If you have not installed before, run the cell below"
   ],
   "cell_type": "markdown",
   "metadata": {}
  },
  {
   "cell_type": "code",
   "execution_count": null,
   "metadata": {
    "id": "TF5uRp382eS-"
   },
   "outputs": [],
   "source": [
    "!git clone https://github.com/tawnkramer/gym-donkeycar\n",
    "%cd gym-donkeycar/\n",
    "!python3 -m pip install -e .[gym-donkeycar] --user\n",
    "%cd ..\n",
    "%mv component.py gym-donkeycar/\n",
    "%mv gyminterface.py gym-donkeycar/"
   ]
  },
  {
   "source": [
    "#### If you have already installed, then run the cell below to upgrade"
   ],
   "cell_type": "markdown",
   "metadata": {}
  },
  {
   "cell_type": "code",
   "execution_count": null,
   "metadata": {},
   "outputs": [],
   "source": [
    "#UPGRADE gym-donkeycar ONLY#\n",
    "!pip install git+https://github.com/tawnkramer/gym-donkeycar --upgrade"
   ]
  },
  {
   "cell_type": "markdown",
   "metadata": {
    "id": "a5ye9nR_0qnP"
   },
   "source": [
    "### IMPORTANT!!!\n",
    "\n",
    "- Go to Google Drive and check if gym-donkeycar folder is installed. \n",
    "- gyminterface.py and component.py should be in gym-donkeycar folder."
   ]
  },
  {
   "cell_type": "markdown",
   "metadata": {
    "id": "YHpLug8MxXV9"
   },
   "source": [
    "Connect to Donkeycar simulator: (Remote only)\n",
    "===\n",
    "\n",
    "NOTE: This notebook is running locally on a Google GPU so it is not local to your network. That is why you must use 'remote' server settings to see your model perform in a simulator. \n",
    "\n",
    "## FOR COSMOS, USE METHOD 1\n",
    "\n",
    "### Method 1 : To DIY Robocar server (provided) / someone elses computer.\n",
    "- Use DIY robocar server or another provided IP address and copy to remote settings in cell below.\n",
    "\n",
    "### Method 2 : To your own host computer.\n",
    "- Configure your router settings port forwarding to your host computer IP address with port 9091 to 9091.\n",
    "- Google search 'my ip address' and copy to remote settings in cell below.\n",
    "\n",
    "Create the racecar dictionary\n",
    "===\n",
    "\n",
    "---\n",
    "\n",
    "Customize your car settings.\n",
    "\n",
    "Select track to race on. Warren is the default.\n",
    "\n",
    "Enter the method 1 or 2 IP address as 'remote' for remote connection.\n",
    "\n",
    "---"
   ]
  },
  {
   "cell_type": "code",
   "execution_count": null,
   "metadata": {
    "id": "b_hHRFLG2eS9"
   },
   "outputs": [],
   "source": [
    "# We are initilizaing the configuration file (Similar to myconfig.py)\n",
    "\n",
    "GYM_DICT={\n",
    "  'car':{\n",
    "    'racer_name': 'Jetsim_NAME', #CHANGE\n",
    "    'bio' : 'Triton_AI_Jetsim = Jetracer', #CHANGE\n",
    "    'country' : 'US',\n",
    "    \"guid\": \"GO_JETSIM\",\n",
    "    'body_style' : 'car01',\n",
    "    'body_rgb': (24, 43, 200),      #(R, G, B)\n",
    "    'car_name' : 'Training_Jetsim', #CHANGE\n",
    "    'font_size' : 50,\n",
    "    #camera settings\n",
    "    \"fov\" : 80,\n",
    "    \"fish_eye_x\" : 0.0, \n",
    "    \"fish_eye_y\" : 0.0, \n",
    "    \"img_w\" : 224, \n",
    "    \"img_h\" : 224, \n",
    "    \"img_d\" : 3, \n",
    "    \"img_enc\" : 'JPG', \n",
    "    \"offset_x\" : 0.0, #sides\n",
    "    \"offset_y\" : 2.0, #height #Jetsim 2.0\n",
    "    \"offset_z\" : 0.0, #forward\n",
    "    \"rot_x\" : 20.0,   #tilt #Jetsim 0.0\n",
    "    #\"rot_y\": 180,    #rotate\n",
    "    },\n",
    "\n",
    "    #connection type\n",
    "    # 'default_connection': 'local',\n",
    "    'default_connection': 'remote',\n",
    "\n",
    "    'local_connection':{\n",
    "      'scene_name': 'warren', # warren | thunderhill | mini_monaco | roboracingleague_1 | generated_track | generated_road | warehouse | sparkfun_avc | waveshare\n",
    "\n",
    "######YOUR HOST COMPUTER IP ADDRESS######\n",
    "      'host': '127.0.0.1', #UPDATE WITH COMPUTER IP ADDRESS HOSTING SIM\n",
    "      'port': 9091,\n",
    "      'artificial_latency': 0},\n",
    "\n",
    "    'remote_connection':{\n",
    "        'scene_name': 'warren',\n",
    "###### REMOTE IP ADDRESS ######\n",
    "        'host': 'donkey-sim.roboticist.dev', # DIY Robocar virtual track server = 'donkey-sim.roboticist.dev' \n",
    "        'port': 9091,\n",
    "        'artificial_latency': 0},# Ping the remote simulator. millisecond here.\n",
    "        \n",
    "    'lidar':{\n",
    "        'enabled': False,\n",
    "        'deg_inc': 1, # Degree increment between each ray of the lidar\n",
    "        'max_range': 30.0}, # Max range of the lidar laser\n",
    "    }\n"
   ]
  },
  {
   "cell_type": "markdown",
   "metadata": {
    "id": "99-h8fWf2eS-"
   },
   "source": [
    "Send dictionary to Triton Racer Gym interface\n",
    "===\n",
    "\n",
    "### Make sure the **DIY Robocar server or Donkeycar Simulator** is ONLINE before running the code below.\n"
   ]
  },
  {
   "cell_type": "code",
   "execution_count": null,
   "metadata": {
    "id": "f0ar2i0ia9ea"
   },
   "outputs": [],
   "source": [
    "import time\n",
    "\n",
    "%cd gym-donkeycar/\n",
    "from gyminterface import GymInterface\n",
    "gym = GymInterface(gym_config=GYM_DICT)\n",
    "time.sleep(1)\n",
    "imageSeen, x, y, z, speed, cte, lidar = gym.step(0.0, 0.0, 0.0, False)\n",
    "time.sleep(1)\n",
    "print(imageSeen.shape)\n",
    "%cd ..\n",
    "\n",
    "#If you run this cell more than once it will generate more cars in the sim. Turn simulator application off and back on to delete all cars. "
   ]
  },
  {
   "cell_type": "markdown",
   "metadata": {
    "id": "rKpuE-M92eS_"
   },
   "source": [
    "---\n",
    "\n",
    "This will initialize the **racecar in the simulator**. Check if the car **populated** in the sim.\n",
    "\n",
    "---\n"
   ]
  },
  {
   "cell_type": "code",
   "execution_count": null,
   "metadata": {
    "id": "rU1-Vz2vXvZl"
   },
   "outputs": [],
   "source": [
    "#If the custom car setting did not load correctly, uncomment this to take car out of sim and then re-run the cell above.\n",
    "\n",
    "gym.onShutdown()"
   ]
  },
  {
   "cell_type": "markdown",
   "metadata": {
    "id": "ywC3MTzo2eS_"
   },
   "source": [
    "Import and load the model. Input your model name.\n",
    "=="
   ]
  },
  {
   "cell_type": "code",
   "execution_count": null,
   "metadata": {
    "id": "5mckMCC2sfxw"
   },
   "outputs": [],
   "source": [
    "import torch\n",
    "import torchvision\n",
    "\n",
    "MODEL_NAME = 'NAME.pth'\n",
    "CATEGORIES = ['m2_images']\n",
    "device = torch.device('cuda')\n",
    "model = torchvision.models.resnet18(pretrained=False)\n",
    "model.fc = torch.nn.Linear(512, 2 * len(CATEGORIES))\n",
    "model = model.cuda().eval().half()\n",
    "\n",
    "# Make sure the model you select is in the 'models' folder within this Google drive setup.\n",
    "model.load_state_dict(torch.load('./models/' + MODEL_NAME))\n",
    "print(\"DONE\")"
   ]
  },
  {
   "cell_type": "markdown",
   "metadata": {
    "id": "n3tahiqg2eTA"
   },
   "source": [
    "Run the model\n",
    "==="
   ]
  },
  {
   "cell_type": "code",
   "execution_count": null,
   "metadata": {
    "id": "EIg_HYhQ2eTA"
   },
   "outputs": [],
   "source": [
    "from utils import preprocess\n",
    "import numpy as np\n",
    "import time\n",
    "import datetime\n",
    "import ipywidgets as widgets\n",
    "from IPython.display import display\n",
    "from IPython.display import clear_output\n",
    "\n",
    "\n",
    "#****************PRIMARY CONTROLS*****************\n",
    "STEERING_GAIN = 1.0             #Scalar or intesity of steering response, usally matches THROTTLE_GAIN.\n",
    "THROTTLE_GAIN = 1.0             #Scalar or intesity of throttle, usally matches STEERING_GAIN.\n",
    "MAX           = 0.9             #Limiter for controlling speed.\n",
    "#********************OPTIONS**********************\n",
    "AUTO_RESET    = True            #reset the car to the start line if crash detected.\n",
    "BOOST         = False           #Inital booster THROTTLE = 1.0 at start of race for 5 seconds.\n",
    "LIMITER       = False           # THROTTLE = MAX \n",
    "PRINT         = False           #outputs steering & throttle values\n",
    "STRAIGHT_AWAY = False           #Straight away for max speed based on x and z coordinate from step function.\n",
    "STRAIGHT_AWAY_THROTTLE = 1.0    #Straight away max speed.\n",
    "#*******************INITIAL***********************\n",
    "STEERING_BIAS = 0.0             #Steering offset. \n",
    "THROTTLE_BIAS = 0.0             #Throttle offset, creeps forward at minimum speed.\n",
    "BREAKS        = 0.0             #Final break value.\n",
    "t0 = datetime.datetime.now()    #for lap time\n",
    "out = 0                         #counter for clearing steering & throttle outputs\n",
    "speed_last = 0                  #auto reset\n",
    "mark = 0                        #auto reset\n",
    "stuck = datetime.datetime.now() #auto reset\n",
    "#*************************************************\n",
    "\n",
    "\n",
    "\n",
    "#Main Jetsim model loop\n",
    "print('JETSIM ACTIVATED')\n",
    "THROTTLE = 1.0\n",
    "STEERING = 0.0\n",
    "try: \n",
    "    while True:\n",
    "        \n",
    "        #_________________________Boost_______________________\n",
    "        #Inital booster THROTTLE = 1.0 at start of race for 5 seconds.\n",
    "        if BOOST:\n",
    "            image, x, y, z, speed, cte, lidar = gym.step(0, 1.0, 0.0, False);\n",
    "            print(\"BOOST\")\n",
    "            time.sleep(5) #boost for 5 seconds\n",
    "            print(\"DRIVING\")\n",
    "            BOOST = False\n",
    "        #_____________________________________________________\n",
    "\n",
    "\n",
    "\n",
    "        #___________________Image processing__________________\n",
    "        #Send controls to gym wrapper and returns image, coordinates, etc.\n",
    "        image, x, y, z, speed, cte, lidar = gym.step(STEERING, THROTTLE, BREAKS, False);\n",
    "        image = preprocess(image).half()\n",
    "        output = model(image).detach().cpu().numpy().flatten()\n",
    "        S = float(output[0]) #-1.0 to 1.0 steering decision.\n",
    "        T = float(output[1]) ##-1.0 to 1.0 throttle decision.\n",
    "        #_____________________________________________________\n",
    "\n",
    "\n",
    "\n",
    "        #_____________Steering & Throttle control_____________\n",
    "        #optimize steering and throttle value. Set the limit on the top speed. \n",
    "        STEERING = round(S * STEERING_GAIN + STEERING_BIAS, 2)  \n",
    "        THROTTLE = round(T * THROTTLE_GAIN + THROTTLE_BIAS, 2)\n",
    "        if LIMITER: #Limiter\n",
    "            if THROTTLE > MAX: #maximum speed\n",
    "                THROTTLE = MAX\n",
    "        #____________________________________________________\n",
    "\n",
    "\n",
    "\n",
    "        #____________________Straight away_____________________\n",
    "        #if car is on the straightest path of the track, go max speed. Warren track only because of coordinates.\n",
    "        if STRAIGHT_AWAY and x <= 45 and x >= 5 and z <= -20 and z >= -30: #coordinates\n",
    "            THROTTLE = STRAIGHT_AWAY_THROTTLE\n",
    "            STEERING = STEERING*0.5 #reduce oversteer\n",
    "        #____________________________________________________\n",
    "\n",
    "\n",
    "\n",
    "        #____________________Print value_____________________\n",
    "        #print steering and throttle value to see realtime control values.\n",
    "        if PRINT: #output value\n",
    "            print(\"Steering = \"+str(STEERING)+\" Throttle  = \"+str(THROTTLE))\n",
    "            if out == 10:\n",
    "                clear_output()\n",
    "                out = 0\n",
    "            out+=1\n",
    "        #____________________________________________________\n",
    "\n",
    "            \n",
    "\n",
    "        #____________________Auto reset______________________\n",
    "        #reset the car to the start line if crash detected.\n",
    "        if AUTO_RESET and round(speed,0) == round(speed_last,0):\n",
    "          mark = datetime.datetime.now()\n",
    "          check = mark - stuck\n",
    "          if (str(check) > '0:00:07.000000'):\n",
    "            print('NOT MOVING')\n",
    "            stuck = datetime.datetime.now()\n",
    "            BOOST = True\n",
    "            gym.step(0.0, 0.0, 100.0, True)\n",
    "            time.sleep(1)\n",
    "        else: \n",
    "          speed_last = speed\n",
    "          mark = stuck\n",
    "          stuck = datetime.datetime.now()\n",
    "        #____________________________________________________\n",
    "\n",
    "\n",
    "\n",
    "        #___________________Show lap time___________________\n",
    "        #displays by default. Cannot show steering and throttle output at the same time. \n",
    "        if x>=29 and x<=30 and z <= -20 and z >= -30:\n",
    "            time_print = datetime.datetime.now() - t0\n",
    "            if (str(time_print) > '0:00:01.000000'):\n",
    "                print (time_print)\n",
    "            t0 = datetime.datetime.now()\n",
    "        #____________________________________________________\n",
    "\n",
    "\n",
    "#####STOP the main loop select \"Kernel\" in the drop down menu and click \"Interrupt Kernel\"#####\n",
    "except KeyboardInterrupt:\n",
    "    \n",
    "    #Resets steering and throttle to 0, applies breaks and resets for 1 second.\n",
    "    print(\"!!!STOP!!!\")\n",
    "    gym.step(0.0, 0.0, 100.0, True)\n",
    "    time.sleep(1)"
   ]
  },
  {
   "cell_type": "code",
   "execution_count": null,
   "metadata": {
    "id": "DTasNpqN2eTB"
   },
   "outputs": [],
   "source": [
    "#RESET run this cell multiple times to stop the car if it still running.\n",
    "gym.step(0.0, 0.0, 100.0, True)"
   ]
  },
  {
   "cell_type": "markdown",
   "metadata": {
    "id": "i9mndrd0xXWD"
   },
   "source": [
    "If finished - YOU MUST Take car out of SERVER!!!\n",
    "==="
   ]
  },
  {
   "cell_type": "code",
   "execution_count": null,
   "metadata": {
    "id": "iMFPMTWG2eTC"
   },
   "outputs": [],
   "source": [
    "gym.onShutdown()"
   ]
  }
 ],
 "metadata": {
  "accelerator": "GPU",
  "colab": {
   "collapsed_sections": [],
   "name": "JETSIM_road_following.ipynb",
   "provenance": []
  },
  "kernelspec": {
   "display_name": "Python 3",
   "language": "python",
   "name": "python3"
  },
  "language_info": {
   "codemirror_mode": {
    "name": "ipython",
    "version": 3
   },
   "file_extension": ".py",
   "mimetype": "text/x-python",
   "name": "python",
   "nbconvert_exporter": "python",
   "pygments_lexer": "ipython3",
   "version": "3.8.8"
  }
 },
 "nbformat": 4,
 "nbformat_minor": 4
}