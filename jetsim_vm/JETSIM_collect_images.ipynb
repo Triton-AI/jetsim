{
 "cells": [
  {
   "cell_type": "markdown",
   "metadata": {},
   "source": [
    "Jetsim : Collect Images Locally\n",
    "===\n",
    "\n",
    "### Step **3** from README.md\n",
    "\n"
   ]
  },
  {
   "cell_type": "markdown",
   "metadata": {},
   "source": [
    "---\n",
    "\n",
    "### INITIAL SETUP\n",
    "\n",
    "Turn ON **Donkeycar Simulator** before running the code below\n",
    "\n",
    "Make sure you have done `conda activate donkey`\n",
    "\n",
    "---\n"
   ]
  },
  {
   "cell_type": "markdown",
   "metadata": {},
   "source": [
    "Create the racecar dictionary\n",
    "===\n",
    "\n",
    "---\n",
    "\n",
    "Customize your car settings.\n",
    "\n",
    "---"
   ]
  },
  {
   "cell_type": "code",
   "execution_count": null,
   "metadata": {},
   "outputs": [],
   "source": [
    "# We are initilizaing the configuration file (Similar to myconfig.py)\n",
    "\n",
    "GYM_DICT={\n",
    "  'car':{\n",
    "    #racer info\n",
    "    'racer_name': 'Jetsim_NAME',    #CHANGE\n",
    "    'bio' : 'info',                 #CHANGE\n",
    "    'country' : 'US',\n",
    "    \"guid\": \"GO_JETSIM\",\n",
    "    #customize car\n",
    "    'body_style' : 'f1',            #car01, donkey\n",
    "    'body_rgb': (24, 43, 200),      #(R, G, B)\n",
    "    'car_name' : 'Training_Jetsim', #Displays above car\n",
    "    'font_size' : 50,\n",
    "    },\n",
    "\n",
    "    #connection type\n",
    "    'default_connection': 'local',\n",
    "    # 'default_connection': 'remote',\n",
    "\n",
    "    'local_connection':{\n",
    "      'scene_name': 'warren', # warren | thunderhill | mini_monaco | roboracingleague_1 | generated_track | generated_road | warehouse | sparkfun_avc | waveshare\n",
    "######YOUR HOST COMPUTER IP ADDRESS######\n",
    "      'host': '127.0.0.1', #UPDATE WITH COMPUTER IP ADDRESS HOSTING SIM\n",
    "      'port': 9091,\n",
    "      'artificial_latency': 0},\n",
    "\n",
    "        \n",
    "    'lidar':{\n",
    "        'enabled': False,\n",
    "        'deg_inc': 1, # Degree increment between each ray of the lidar\n",
    "        'max_range': 30.0}, # Max range of the lidar laser\n",
    "    }\n"
   ]
  },
  {
   "cell_type": "markdown",
   "metadata": {},
   "source": [
    "Send dictionary to Triton Racer Gym interface\n",
    "===\n",
    "\n",
    "### Make sure to turn ON **Donkeycar Simulator** before running the code below"
   ]
  },
  {
   "cell_type": "code",
   "execution_count": null,
   "metadata": {},
   "outputs": [],
   "source": [
    "import time\n",
    "%cd resources\n",
    "from gyminterface import GymInterface\n",
    "%cd ..\n",
    "gym = GymInterface(gym_config=GYM_DICT) #Load in the car based on default configurations\n",
    "time.sleep(1)\n",
    "imageSeen, x, y, z, speed, cte, lidar = gym.step(0.0, 0.0, 0.0, False) #gym.step(steering, throttle, brakes, reset)\n",
    "time.sleep(1)\n",
    "#imageSeen.shape only for checking returned image dim. should be 224x224"
   ]
  },
  {
   "cell_type": "code",
   "execution_count": null,
   "metadata": {},
   "outputs": [],
   "source": [
    "#If the custom car setting did not load correctly, uncomment this to take car out of sim and then re-run the cell above.\n",
    "gym.onShutdown()"
   ]
  },
  {
   "cell_type": "markdown",
   "metadata": {},
   "source": [
    "---\n",
    "\n",
    "This will initialize the **racecar in the simulator**. Check if the car **populated** in the sim.\n",
    "\n",
    "---"
   ]
  },
  {
   "cell_type": "markdown",
   "metadata": {},
   "source": [
    "There are 2 methods to control car and collect data. For COSMOS C11, Use *clickable*.\n",
    "===\n",
    "\n",
    "- **Method 1 / *clickable*** Click image to drive and collect data at the same time. \n",
    "- **Method 2 / keyboard*** Keyboard control and post processing images.\n",
    "\n",
    "### Tip\n",
    "\n",
    "- collect ~200 images minimum following on yellow lines.\n",
    "- collect ~200 images minimum avoiding outer lines and cones."
   ]
  },
  {
   "cell_type": "markdown",
   "metadata": {},
   "source": [
    "Method 1 Image clickable and drive.\n",
    "===\n",
    "\n",
    "### 2 widgets will pop up:\n",
    "\n",
    "- Clickable 'virtual' camera that takes a picture and drives the car to that direction.\n",
    "- Click and hold 'virtual' joystick to manually control the car.\n",
    "\n",
    "*Both windows can control the car.*\n",
    "\n",
    "### Images will save in *clickable_images* folder.\n",
    "\n",
    "### How to collect data\n",
    "    Click the 'virtual' camera image in the direction you want the car to drive. Hold the click to pick up more speed. Click farther out to drive faster or closer to car to drive slower.\n",
    "    If you need to correct your position without taking a picture use the **'virtual' joystick** to manually move the car in position.\n",
    "\n"
   ]
  },
  {
   "cell_type": "code",
   "execution_count": null,
   "metadata": {},
   "outputs": [],
   "source": [
    "from ipycanvas import Canvas\n",
    "from ipywidgets import Image\n",
    "import cv2\n",
    "import numpy as np\n",
    "import os\n",
    "import ipywidgets\n",
    "from datetime import datetime\n",
    "\n",
    "\n",
    "def handle_mouse_down(x, y): # Take a screenshot and drive the car in that direction\n",
    "    global newImage\n",
    "    x = int(x)\n",
    "    y = int(y)\n",
    "    gym.step((1.0 * (x / 224.0 - 0.5)), (-1.0 * (y / 224.0 - 0.8)), 0.0, False)\n",
    "\n",
    "    now = str(datetime.now())\n",
    "    now = now.replace(\" \", \"\")\n",
    "    now = now.replace(\".\", \"\")\n",
    "    now = now.replace(\":\", \"-\")\n",
    "    newName = str(x) + \"_\" + str(y) + \"_\" + str(now) + \".jpg\"\n",
    "    cv2.imwrite(\"./clickable_images/\"+newName, newImage)\n",
    "\n",
    "def handle_mouse_up(x, y):\n",
    "    rewrite_canvas()\n",
    "\n",
    "def rewrite_canvas(): #Load new image\n",
    "    global newImage\n",
    "    canvas.clear()\n",
    "    imageSeen, cx, cy, cz, speed, cte, lidar = gym.step(0.0, 0.0, 0.0, False)\n",
    "    newImage = np.copy(imageSeen)\n",
    "    newImage[:, :, [2, 0]] = newImage[:, :, [0, 2]]\n",
    "    cv2.imwrite(\"./clickable_images/DELETE.jpg\", newImage)\n",
    "    current = Image.from_file('./clickable_images/DELETE.jpg')\n",
    "    canvas.draw_image(current, 0, 0)\n",
    "    os.remove('./clickable_images/DELETE.jpg')\n",
    "\n",
    "def manual_mouse_down(x, y):\n",
    "    joystick.on_mouse_move(manual_move, remove=False)\n",
    "\n",
    "def manual_mouse_up(x, y):\n",
    "    joystick.on_mouse_move(manual_move, remove=True)\n",
    "    gym.step(0.0, 0.0, 1.0, False)\n",
    "\n",
    "def manual_out(x, y):\n",
    "    gym.step(0.0, 0.0, 1.0, False)\n",
    "\n",
    "def manual_move(x, y):\n",
    "    gym.step((1.0 * (x / 224.0 - 0.5)), (-1.0 * (y / 224.0 - 0.5)), 0.0, False)\n",
    "\n",
    "\n",
    "\n",
    "global newImage\n",
    "time.sleep(1)\n",
    "gym.step(0.0, 0.0, 0.0, True)\n",
    "time.sleep(1)\n",
    "\n",
    "dir = \"clickable_images\" #Make the directory for images to be stored in\n",
    "try:\n",
    "    os.makedirs(dir, exist_ok = False)\n",
    "    print(\"Directory '%s' created successfully\" % dir)\n",
    "except OSError as error:\n",
    "    print(\"Directory '%s' already exists\" % dir)\n",
    "\n",
    "print (\"\\n\\n************************ CONTROLS ************************\\n\\nRepeatedly click path on image to move car.\\nClick farther out to drive faster or closer to car to drive slower.\\nHINT: find the optimal driving path.\\n\\n***********************************************************\\n\\n\")\n",
    "\n",
    "canvas = Canvas(width=224, height=224)\n",
    "rewrite_canvas()\n",
    "canvas.on_mouse_down(handle_mouse_down)\n",
    "canvas.on_mouse_up(handle_mouse_up)\n",
    "\n",
    "joystick = Canvas(width=224, height=224)\n",
    "directions = Image.from_file('./resources/joystick.png')\n",
    "joystick.draw_image(directions, 0, 0)\n",
    "joystick.on_mouse_up(manual_mouse_up)\n",
    "joystick.on_mouse_down(manual_mouse_down)\n",
    "joystick.on_mouse_move(manual_move, remove=True)\n",
    "joystick.on_mouse_out(manual_out)\n",
    "joystick.stroke_style = 'blue'\n",
    "joystick.stroke_rect(2, 2, 222, 222)\n",
    "\n",
    "\n",
    "all_controls = ipywidgets.HBox([canvas, joystick])\n",
    "display(all_controls)\n",
    "\n"
   ]
  },
  {
   "cell_type": "code",
   "execution_count": null,
   "metadata": {},
   "outputs": [],
   "source": [
    "#reset car if needed\n",
    "gym.step(0.0, 0.0, 0.0, True);"
   ]
  },
  {
   "cell_type": "markdown",
   "metadata": {},
   "source": [
    "### Compress your clickable_images folder"
   ]
  },
  {
   "cell_type": "code",
   "execution_count": null,
   "metadata": {
    "tags": []
   },
   "outputs": [],
   "source": [
    "!zip -r clickable_images.zip clickable_images"
   ]
  },
  {
   "cell_type": "markdown",
   "metadata": {},
   "source": [
    "---\n",
    "### If finished - Verify *clickable_images* folder is populated with data. Exit this notebook.\n",
    "### Proceed to **step 4.1** in README.md and transfer folders to Google Drive. Good luck!\n",
    "\n",
    "---"
   ]
  },
  {
   "cell_type": "code",
   "execution_count": null,
   "metadata": {},
   "outputs": [],
   "source": [
    "gym.onShutdown()"
   ]
  },
  {
   "source": [
    "## EXIT NOTEBOOK AND GO TO STEP 4.1 IN THE README"
   ],
   "cell_type": "markdown",
   "metadata": {}
  },
  {
   "cell_type": "markdown",
   "metadata": {},
   "source": [
    "Method 2 Keyboard control\n",
    "===\n",
    "\n",
    "### 2 windows will pop up:\n",
    "\n",
    "- Live stream image from the 'virtual' camera.\n",
    "- Pygame black square for keyboard inputs.\n",
    "\n",
    "*Both windows are needed to control the car.*\n",
    "\n",
    "### Images will save in *keyboard_images* folder.\n",
    "\n",
    "    ************ CONTROLS ************\n",
    "\n",
    "    Click the **black square** to activate controls:\n",
    "\n",
    "    Arrow keys: DRIVE\n",
    "\n",
    "    C : CAMERA (take 3 pictures)\n",
    "\n",
    "    X : BRAKE\n",
    "\n",
    "    Z : SHOW current car coordinates\n",
    "\n",
    "    Red STOP button : 'kernel interrupt' to stop training loop.\n",
    "\n",
    "\n",
    "\n"
   ]
  },
  {
   "cell_type": "code",
   "execution_count": null,
   "metadata": {
    "tags": []
   },
   "outputs": [],
   "source": [
    "import cv2\n",
    "\n",
    "def bgr8_to_jpeg(value, quality=100):\n",
    "    return bytes(cv2.imencode('.jpg', value)[1])\n",
    "\n",
    "import pygame, time\n",
    "from pygame.locals import *\n",
    "import numpy as np\n",
    "import time\n",
    "import os\n",
    "\n",
    "counter = 1\n",
    "steer = 0.0\n",
    "throttle = 0.0\n",
    "brakes = 0.0\n",
    "\n",
    "pygame.init()\n",
    "screen = pygame.display.set_mode((100, 100)) #black square\n",
    "pygame.display.set_caption('Pygame Keyboard Test')\n",
    "pygame.mouse.set_visible(0)\n",
    "\n",
    "print (\"\\n\\n************ CONTROLS ************\\n\\n   Arrow keys: DRIVE\\n   Z : SHOW car coordinates\\n   X : BRAKE\\n   C : CAMERA (take 5 pictures)\\n   Red STOP button : 'kernel interrupt' to stop training loop\\n\\n***********************************\\n\\n\")\n",
    "\n",
    "dir = \"keyboard_images\"\n",
    "try:\n",
    "    os.makedirs(dir, exist_ok = False)\n",
    "    print(\"Directory '%s' created successfully\" % dir)\n",
    "except OSError as error:\n",
    "    print(\"Directory '%s' already exists\" % dir)\n",
    "  \n",
    "imageSeen, x, y, z, speed, cte, lidar = gym.step(0.0, 0.0, 0.0, False)\n",
    "newArray = np.copy(imageSeen)\n",
    "print(newArray.shape)\n",
    "newArray[:, :, [2, 0]] = newArray[:, :, [0, 2]]\n",
    "\n",
    "try:\n",
    "    while True:\n",
    "        keyState = pygame.key.get_pressed()\n",
    "        if(len(keyState) != 0):\n",
    "            if keyState[pygame.K_UP]:\n",
    "                throttle = 0.5\n",
    "            elif keyState[pygame.K_DOWN]:\n",
    "                throttle = -1.0\n",
    "            else:\n",
    "                throttle = 0.0\n",
    "            if keyState[pygame.K_RIGHT]:\n",
    "                steer = 1.0\n",
    "            elif keyState[pygame.K_LEFT]:\n",
    "                steer = -1.0\n",
    "            else:\n",
    "                steer = 0.0\n",
    "                \n",
    "            if keyState[pygame.K_x]:\n",
    "                brakes = 1000.0\n",
    "            else:\n",
    "                brakes = 0.0\n",
    "                \n",
    "            imageSeen, x, y, z, speed, cte, lidar = gym.step(steer, throttle, brakes, False)\n",
    "            newArray = np.copy(imageSeen)\n",
    "            newArray[:, :, [2, 0]] = newArray[:, :, [0, 2]]\n",
    "\n",
    "            if keyState[pygame.K_c]:\n",
    "\n",
    "                for i in range(3): #takes 3 pictures in one shot\n",
    "                    \n",
    "                    cv2.imwrite('./keyboard_images/' + 'data_point_' + \"{:03d}\".format(counter) + \".jpg\", (newArray))\n",
    "                    counter = counter + 1\n",
    "                print(str(counter-1) + \" image(s) captured\")\n",
    "                time.sleep(.3) #snap the photo and wait .3 seconds to allow finger to release button. While loop is too fast when you press B.\n",
    "            if counter >= 999:\n",
    "                print(\"TOO MANY PICTURES\")\n",
    "                gym.step(0.0, 0.0, 100.0, False)\n",
    "                time.sleep(1)\n",
    "                print('\\nTRAINING STOPPED')\n",
    "                gym.step(0.0, 0.0, 0.0, True);\n",
    "                break\n",
    "\n",
    "            if keyState[pygame.K_z]:\n",
    "                print(\"x = \"+str(x)+\", z = \"+str(z))\n",
    "                time.sleep(.3)\n",
    "\n",
    "\n",
    "            if keyState[pygame.K_v]:\n",
    "                print(lidar)\n",
    "                time.sleep(.3)\n",
    "            \n",
    "        else:\n",
    "            throttle = 0.0\n",
    "            steer = 0.0\n",
    "            brakes = 0.0\n",
    "            print('BRAKE')\n",
    "            imageSeen, x, y, z, speed, cte, lidar = gym.step(0.0, 0.0, 100.0, False)\n",
    "        pygame.event.pump()\n",
    "\n",
    "        cv2.imshow(\"image\", newArray)\n",
    "\n",
    "except KeyboardInterrupt:\n",
    "    \n",
    "    #Resets steering and throttle to 0, applies brakes and resets for 1 second\n",
    "    gym.step(0.0, 0.0, 100.0, False)\n",
    "    time.sleep(1)\n",
    "    print('\\nTRAINING STOPPED')\n",
    "    gym.step(0.0, 0.0, 0.0, True)"
   ]
  },
  {
   "cell_type": "code",
   "execution_count": null,
   "metadata": {},
   "outputs": [],
   "source": [
    "gym.onShutdown()"
   ]
  },
  {
   "cell_type": "markdown",
   "metadata": {},
   "source": [
    "---\n",
    "### If finished - Click interrupt Jupyter kernel \"STOP\" button at top controls.\n",
    "### Verify *keyboard_images* folder is populated with data. Exit this notebook.\n",
    "### Proceed to *step 3.2* in README.md and run *postprocess_images.py* Good luck!\n",
    "\n",
    "---"
   ]
  }
 ],
 "metadata": {
  "interpreter": {
   "hash": "541dbd4c8bd7f92407a81ca37d664b2b32445d284cbd17bfcc7cd6df867e253b"
  },
  "kernelspec": {
   "name": "python3",
   "display_name": "Python 3.8.8 64-bit ('jetsim': conda)"
  },
  "language_info": {
   "codemirror_mode": {
    "name": "ipython",
    "version": 3
   },
   "file_extension": ".py",
   "mimetype": "text/x-python",
   "name": "python",
   "nbconvert_exporter": "python",
   "pygments_lexer": "ipython3",
   "version": "3.8.8"
  }
 },
 "nbformat": 4,
 "nbformat_minor": 4
}